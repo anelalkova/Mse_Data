{
 "cells": [
  {
   "cell_type": "code",
   "execution_count": 67,
   "id": "79f4e718-d714-4d30-b0fc-38e81086ca29",
   "metadata": {},
   "outputs": [
    {
     "name": "stderr",
     "output_type": "stream",
     "text": [
      "Device set to use cpu\n"
     ]
    },
    {
     "name": "stdout",
     "output_type": "stream",
     "text": [
      "Data successfully written to 'sentimental_analysis.csv'\n"
     ]
    }
   ],
   "source": [
    "import pandas as pd\n",
    "from sklearn.feature_extraction.text import CountVectorizer\n",
    "from sklearn.decomposition import LatentDirichletAllocation\n",
    "from bs4 import BeautifulSoup\n",
    "from transformers import pipeline\n",
    "import csv\n",
    "\n",
    "data = pd.read_csv('news_data.csv')\n",
    "data.columns = [\"Issuer\", \"Seinet ID\", \"Content\", \"Date\", \"Attachments\"]\n",
    "\n",
    "data.dropna(subset=['Attachments'], inplace=True)\n",
    "\n",
    "def preprocess_text(text):\n",
    "    soup = BeautifulSoup(text, \"html.parser\")\n",
    "    cleaned_text = soup.get_text()  \n",
    "    return cleaned_text.lower().strip()\n",
    "\n",
    "data['Cleaned Attachments'] = data['Attachments'].apply(preprocess_text)\n",
    "\n",
    "vectorizer = CountVectorizer(stop_words='english', max_features=1000)\n",
    "text_matrix = vectorizer.fit_transform(data['Cleaned Attachments'])\n",
    "\n",
    "lda_model = LatentDirichletAllocation(n_components=3, random_state=42)  \n",
    "lda_topics = lda_model.fit_transform(text_matrix)\n",
    "\n",
    "data['Topic'] = lda_topics.argmax(axis=1)\n",
    "\n",
    "sentiment_model = pipeline('sentiment-analysis', model='distilbert-base-uncased-finetuned-sst-2-english')\n",
    "\n",
    "def get_sentiment(text):\n",
    "    result = sentiment_model(text[:512])  \n",
    "    return result[0]['label']\n",
    "\n",
    "data['Sentiment'] = data['Attachments'].apply(get_sentiment)\n",
    "\n",
    "issuer_sentiment = data.groupby('Issuer')['Sentiment'].agg(lambda x: x.mode()[0])  # Most common sentiment\n",
    "\n",
    "issuer_sentiment = issuer_sentiment.map({'POSITIVE': 'buy', 'NEGATIVE': 'sell'})\n",
    "data['Recommendation'] = data['Sentiment'].map({'POSITIVE': 'buy', 'NEGATIVE': 'sell'})\n",
    "\n",
    "data = data.merge(issuer_sentiment, on='Issuer', suffixes=('', '_Recommendation'))\n",
    "\n",
    "data_final = data[['Issuer', 'Recommendation']]\n",
    "\n",
    "with open(\"sentimental_analysis.csv\", mode=\"w\", newline=\"\", encoding=\"utf-8\") as csvfile:\n",
    "    csv_writer = csv.writer(csvfile)\n",
    "    \n",
    "    csv_writer.writerow([\"Issuer\", \"Recommendation\"])\n",
    "    \n",
    "    for row in data_final.itertuples(index=False, name=None):\n",
    "        csv_writer.writerow(row)\n",
    "\n",
    "print(\"Data successfully written to 'sentimental_analysis.csv'\")\n"
   ]
  },
  {
   "cell_type": "code",
   "execution_count": null,
   "id": "6d6b8214-1043-44a5-b649-cef41f3342b4",
   "metadata": {},
   "outputs": [],
   "source": []
  }
 ],
 "metadata": {
  "kernelspec": {
   "display_name": "Python 3 (ipykernel)",
   "language": "python",
   "name": "python3"
  },
  "language_info": {
   "codemirror_mode": {
    "name": "ipython",
    "version": 3
   },
   "file_extension": ".py",
   "mimetype": "text/x-python",
   "name": "python",
   "nbconvert_exporter": "python",
   "pygments_lexer": "ipython3",
   "version": "3.12.7"
  }
 },
 "nbformat": 4,
 "nbformat_minor": 5
}
